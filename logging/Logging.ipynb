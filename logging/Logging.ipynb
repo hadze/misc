{
 "cells": [
  {
   "cell_type": "markdown",
   "metadata": {},
   "source": [
    "# Logging with python and configfile"
   ]
  },
  {
   "cell_type": "markdown",
   "metadata": {},
   "source": [
    "##### each approach will create a new logfile called my.log"
   ]
  },
  {
   "cell_type": "markdown",
   "metadata": {},
   "source": [
    "## Approach via code"
   ]
  },
  {
   "cell_type": "code",
   "execution_count": null,
   "metadata": {},
   "outputs": [],
   "source": [
    "import logging\n",
    "logger = logging.getLogger('SampleLoggerFromCode')\n",
    "logger.setLevel(logging.DEBUG) # use logging.ERROR for reducing reported levels\n",
    "fh = logging.FileHandler('my.log')\n",
    "fh.setLevel(logging.DEBUG)\n",
    "logger.addHandler(fh)\n",
    "formatter = logging.Formatter('%(asctime)s - %(name)s - %(levelname)s - %(message)s')\n",
    "fh.setFormatter(formatter)\n",
    "logger.addHandler(fh)\n",
    "logger.debug('debug message')\n",
    "logger.info('info message')\n",
    "logger.warning('warn message')\n",
    "logger.error('error message')\n",
    "logger.critical('critical message')"
   ]
  },
  {
   "cell_type": "markdown",
   "metadata": {},
   "source": [
    "## Approach with config file in the background and RotatingFileHandler"
   ]
  },
  {
   "cell_type": "code",
   "execution_count": null,
   "metadata": {},
   "outputs": [],
   "source": [
    "# All settings are stored in the configfile\n",
    "# e.g. \n",
    "# args=('my.log', 'a', 10000000, 1) \n",
    "# 10000000 means here --> 10MB circulating storage"
   ]
  },
  {
   "cell_type": "code",
   "execution_count": null,
   "metadata": {},
   "outputs": [],
   "source": [
    "import logging\n",
    "import logging.config\n",
    "\n",
    "# get logger settings from configfile\n",
    "logging.config.fileConfig('log.cfg')\n",
    "\n",
    "# create logger\n",
    "logger = logging.getLogger('SampleLoggerFromCfg')\n",
    "\n",
    "x = range(10)\n",
    "for n in x:\n",
    "    # 'application' code\n",
    "    logger.debug('debug message')\n",
    "    logger.info('info message')\n",
    "    logger.warning('warn message')\n",
    "    logger.error('error message')\n",
    "    logger.critical('critical message')"
   ]
  },
  {
   "cell_type": "markdown",
   "metadata": {},
   "source": [
    "## Approach with config file in the background and central logging class"
   ]
  },
  {
   "cell_type": "code",
   "execution_count": 13,
   "metadata": {},
   "outputs": [],
   "source": [
    "from logutilities import logger\n",
    "\n",
    "logging = logger.setLoggerName(\"myLoggerClass\")\n",
    "\n",
    "logging.info(\"This is a log message defined by central logger class\")\n",
    "logging.error(\"This is an error defined by central logger class\")\n"
   ]
  },
  {
   "cell_type": "code",
   "execution_count": 14,
   "metadata": {},
   "outputs": [],
   "source": [
    "logging = logger.setLoggerName(\"myOtherLoggerClass\")\n",
    "\n",
    "logging.info(\"This is another log message defined by central logger class\")"
   ]
  }
 ],
 "metadata": {
  "kernelspec": {
   "display_name": "Python 3",
   "language": "python",
   "name": "python3"
  },
  "language_info": {
   "codemirror_mode": {
    "name": "ipython",
    "version": 3
   },
   "file_extension": ".py",
   "mimetype": "text/x-python",
   "name": "python",
   "nbconvert_exporter": "python",
   "pygments_lexer": "ipython3",
   "version": "3.7.7"
  },
  "varInspector": {
   "cols": {
    "lenName": 16,
    "lenType": 16,
    "lenVar": 40
   },
   "kernels_config": {
    "python": {
     "delete_cmd_postfix": "",
     "delete_cmd_prefix": "del ",
     "library": "var_list.py",
     "varRefreshCmd": "print(var_dic_list())"
    },
    "r": {
     "delete_cmd_postfix": ") ",
     "delete_cmd_prefix": "rm(",
     "library": "var_list.r",
     "varRefreshCmd": "cat(var_dic_list()) "
    }
   },
   "types_to_exclude": [
    "module",
    "function",
    "builtin_function_or_method",
    "instance",
    "_Feature"
   ],
   "window_display": false
  }
 },
 "nbformat": 4,
 "nbformat_minor": 2
}
